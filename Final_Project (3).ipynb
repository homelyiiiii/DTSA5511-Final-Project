{
  "nbformat": 4,
  "nbformat_minor": 0,
  "metadata": {
    "colab": {
      "provenance": [],
      "machine_shape": "hm",
      "gpuType": "A100"
    },
    "kernelspec": {
      "name": "python3",
      "display_name": "Python 3"
    },
    "language_info": {
      "name": "python"
    },
    "accelerator": "GPU"
  },
  "cells": [
    {
      "cell_type": "markdown",
      "source": [
        "#Fake News Classification\n",
        "\n",
        "Fake news is a societal problem with countries having their own regulations to stem out fake news (for instance, my own country Singapore, has a \"Protection from Online Falsehoods and Manipulation Act\" (POFMA) law to combat fake news). Being able to tell real from fake is supposed to be critical. However, I am skeptical about whether machine learning can really do this reliably. What counts as \"ground truth\" when truth itself can be messy, biased, or disputed? I'm exploring this problem through a Kaggle project, to not just build a model, but also to explore the dataset/ and outcomes."
      ],
      "metadata": {
        "id": "r8BVNWiocK8y"
      }
    },
    {
      "cell_type": "markdown",
      "source": [
        "[Kaggle competition link ](https://www.kaggle.com/datasets/aadyasingh55/fake-news-classification/data)"
      ],
      "metadata": {
        "id": "vMdw4fFkc54O"
      }
    },
    {
      "cell_type": "code",
      "execution_count": 29,
      "metadata": {
        "id": "ZfP8WwKkHcNK"
      },
      "outputs": [],
      "source": [
        "import pandas as pd\n",
        "import numpy as np\n",
        "import matplotlib.pyplot as plt\n",
        "import seaborn as sns\n",
        "\n",
        "import re\n",
        "import nltk\n",
        "from nltk.corpus import stopwords\n",
        "from nltk.tokenize import word_tokenize\n",
        "\n",
        "import tensorflow as tf\n",
        "from tensorflow.keras.models import Sequential\n",
        "from tensorflow.keras.layers import Embedding, Bidirectional, LSTM, Dense, Dropout\n",
        "from tensorflow.keras.preprocessing.text import Tokenizer\n",
        "from tensorflow.keras.preprocessing.sequence import pad_sequences\n",
        "from tensorflow.keras.callbacks import EarlyStopping, ModelCheckpoint\n",
        "\n",
        "from sklearn.model_selection import train_test_split\n",
        "from sklearn.metrics import classification_report, confusion_matrix, accuracy_score\n",
        "\n",
        "from textblob import TextBlob"
      ]
    },
    {
      "cell_type": "code",
      "source": [
        "from google.colab import drive\n",
        "drive.mount('/content/drive')"
      ],
      "metadata": {
        "colab": {
          "base_uri": "https://localhost:8080/"
        },
        "id": "cNd98rj6asBk",
        "outputId": "debbe3a8-3ea9-4f65-a2a4-fb177c7695c7"
      },
      "execution_count": 2,
      "outputs": [
        {
          "output_type": "stream",
          "name": "stdout",
          "text": [
            "Drive already mounted at /content/drive; to attempt to forcibly remount, call drive.mount(\"/content/drive\", force_remount=True).\n"
          ]
        }
      ]
    },
    {
      "cell_type": "code",
      "source": [
        "df_train = pd.read_csv(\n",
        "    '/content/drive/MyDrive/Jiayi_master_5511/archive (2)/train (2).csv',\n",
        "    sep = ';',\n",
        "    engine = 'python'\n",
        ")\n",
        "\n",
        "df_evaluation = pd.read_csv(\n",
        "    '/content/drive/MyDrive/Jiayi_master_5511/archive (2)/evaluation.csv',\n",
        "    sep=';',\n",
        "    engine='python'\n",
        ")"
      ],
      "metadata": {
        "id": "_lUVMyBjJ2n1"
      },
      "execution_count": 3,
      "outputs": []
    },
    {
      "cell_type": "code",
      "source": [
        "df_train.head(5)"
      ],
      "metadata": {
        "colab": {
          "base_uri": "https://localhost:8080/",
          "height": 206
        },
        "id": "Kpx6BNZ8es0P",
        "outputId": "ef401f57-ab09-4613-b3e1-02bd41328287"
      },
      "execution_count": 4,
      "outputs": [
        {
          "output_type": "execute_result",
          "data": {
            "text/plain": [
              "   Unnamed: 0                                              title  \\\n",
              "0           0  Palestinians switch off Christmas lights in Be...   \n",
              "1           1  China says Trump call with Taiwan president wo...   \n",
              "2           2   FAIL! The Trump Organization’s Credit Score W...   \n",
              "3           3  Zimbabwe military chief's China trip was norma...   \n",
              "4           4  THE MOST UNCOURAGEOUS PRESIDENT EVER Receives ...   \n",
              "\n",
              "                                                text  label  \n",
              "0  RAMALLAH, West Bank (Reuters) - Palestinians s...      1  \n",
              "1  BEIJING (Reuters) - U.S. President-elect Donal...      1  \n",
              "2  While the controversy over Trump s personal ta...      0  \n",
              "3  BEIJING (Reuters) - A trip to Beijing last wee...      1  \n",
              "4  There has never been a more UNCOURAGEOUS perso...      0  "
            ],
            "text/html": [
              "\n",
              "  <div id=\"df-ab1e1e2f-e67b-4583-9135-e4897e345cd9\" class=\"colab-df-container\">\n",
              "    <div>\n",
              "<style scoped>\n",
              "    .dataframe tbody tr th:only-of-type {\n",
              "        vertical-align: middle;\n",
              "    }\n",
              "\n",
              "    .dataframe tbody tr th {\n",
              "        vertical-align: top;\n",
              "    }\n",
              "\n",
              "    .dataframe thead th {\n",
              "        text-align: right;\n",
              "    }\n",
              "</style>\n",
              "<table border=\"1\" class=\"dataframe\">\n",
              "  <thead>\n",
              "    <tr style=\"text-align: right;\">\n",
              "      <th></th>\n",
              "      <th>Unnamed: 0</th>\n",
              "      <th>title</th>\n",
              "      <th>text</th>\n",
              "      <th>label</th>\n",
              "    </tr>\n",
              "  </thead>\n",
              "  <tbody>\n",
              "    <tr>\n",
              "      <th>0</th>\n",
              "      <td>0</td>\n",
              "      <td>Palestinians switch off Christmas lights in Be...</td>\n",
              "      <td>RAMALLAH, West Bank (Reuters) - Palestinians s...</td>\n",
              "      <td>1</td>\n",
              "    </tr>\n",
              "    <tr>\n",
              "      <th>1</th>\n",
              "      <td>1</td>\n",
              "      <td>China says Trump call with Taiwan president wo...</td>\n",
              "      <td>BEIJING (Reuters) - U.S. President-elect Donal...</td>\n",
              "      <td>1</td>\n",
              "    </tr>\n",
              "    <tr>\n",
              "      <th>2</th>\n",
              "      <td>2</td>\n",
              "      <td>FAIL! The Trump Organization’s Credit Score W...</td>\n",
              "      <td>While the controversy over Trump s personal ta...</td>\n",
              "      <td>0</td>\n",
              "    </tr>\n",
              "    <tr>\n",
              "      <th>3</th>\n",
              "      <td>3</td>\n",
              "      <td>Zimbabwe military chief's China trip was norma...</td>\n",
              "      <td>BEIJING (Reuters) - A trip to Beijing last wee...</td>\n",
              "      <td>1</td>\n",
              "    </tr>\n",
              "    <tr>\n",
              "      <th>4</th>\n",
              "      <td>4</td>\n",
              "      <td>THE MOST UNCOURAGEOUS PRESIDENT EVER Receives ...</td>\n",
              "      <td>There has never been a more UNCOURAGEOUS perso...</td>\n",
              "      <td>0</td>\n",
              "    </tr>\n",
              "  </tbody>\n",
              "</table>\n",
              "</div>\n",
              "    <div class=\"colab-df-buttons\">\n",
              "\n",
              "  <div class=\"colab-df-container\">\n",
              "    <button class=\"colab-df-convert\" onclick=\"convertToInteractive('df-ab1e1e2f-e67b-4583-9135-e4897e345cd9')\"\n",
              "            title=\"Convert this dataframe to an interactive table.\"\n",
              "            style=\"display:none;\">\n",
              "\n",
              "  <svg xmlns=\"http://www.w3.org/2000/svg\" height=\"24px\" viewBox=\"0 -960 960 960\">\n",
              "    <path d=\"M120-120v-720h720v720H120Zm60-500h600v-160H180v160Zm220 220h160v-160H400v160Zm0 220h160v-160H400v160ZM180-400h160v-160H180v160Zm440 0h160v-160H620v160ZM180-180h160v-160H180v160Zm440 0h160v-160H620v160Z\"/>\n",
              "  </svg>\n",
              "    </button>\n",
              "\n",
              "  <style>\n",
              "    .colab-df-container {\n",
              "      display:flex;\n",
              "      gap: 12px;\n",
              "    }\n",
              "\n",
              "    .colab-df-convert {\n",
              "      background-color: #E8F0FE;\n",
              "      border: none;\n",
              "      border-radius: 50%;\n",
              "      cursor: pointer;\n",
              "      display: none;\n",
              "      fill: #1967D2;\n",
              "      height: 32px;\n",
              "      padding: 0 0 0 0;\n",
              "      width: 32px;\n",
              "    }\n",
              "\n",
              "    .colab-df-convert:hover {\n",
              "      background-color: #E2EBFA;\n",
              "      box-shadow: 0px 1px 2px rgba(60, 64, 67, 0.3), 0px 1px 3px 1px rgba(60, 64, 67, 0.15);\n",
              "      fill: #174EA6;\n",
              "    }\n",
              "\n",
              "    .colab-df-buttons div {\n",
              "      margin-bottom: 4px;\n",
              "    }\n",
              "\n",
              "    [theme=dark] .colab-df-convert {\n",
              "      background-color: #3B4455;\n",
              "      fill: #D2E3FC;\n",
              "    }\n",
              "\n",
              "    [theme=dark] .colab-df-convert:hover {\n",
              "      background-color: #434B5C;\n",
              "      box-shadow: 0px 1px 3px 1px rgba(0, 0, 0, 0.15);\n",
              "      filter: drop-shadow(0px 1px 2px rgba(0, 0, 0, 0.3));\n",
              "      fill: #FFFFFF;\n",
              "    }\n",
              "  </style>\n",
              "\n",
              "    <script>\n",
              "      const buttonEl =\n",
              "        document.querySelector('#df-ab1e1e2f-e67b-4583-9135-e4897e345cd9 button.colab-df-convert');\n",
              "      buttonEl.style.display =\n",
              "        google.colab.kernel.accessAllowed ? 'block' : 'none';\n",
              "\n",
              "      async function convertToInteractive(key) {\n",
              "        const element = document.querySelector('#df-ab1e1e2f-e67b-4583-9135-e4897e345cd9');\n",
              "        const dataTable =\n",
              "          await google.colab.kernel.invokeFunction('convertToInteractive',\n",
              "                                                    [key], {});\n",
              "        if (!dataTable) return;\n",
              "\n",
              "        const docLinkHtml = 'Like what you see? Visit the ' +\n",
              "          '<a target=\"_blank\" href=https://colab.research.google.com/notebooks/data_table.ipynb>data table notebook</a>'\n",
              "          + ' to learn more about interactive tables.';\n",
              "        element.innerHTML = '';\n",
              "        dataTable['output_type'] = 'display_data';\n",
              "        await google.colab.output.renderOutput(dataTable, element);\n",
              "        const docLink = document.createElement('div');\n",
              "        docLink.innerHTML = docLinkHtml;\n",
              "        element.appendChild(docLink);\n",
              "      }\n",
              "    </script>\n",
              "  </div>\n",
              "\n",
              "\n",
              "    <div id=\"df-73838434-314b-4bd6-b7ed-b65287f0d14d\">\n",
              "      <button class=\"colab-df-quickchart\" onclick=\"quickchart('df-73838434-314b-4bd6-b7ed-b65287f0d14d')\"\n",
              "                title=\"Suggest charts\"\n",
              "                style=\"display:none;\">\n",
              "\n",
              "<svg xmlns=\"http://www.w3.org/2000/svg\" height=\"24px\"viewBox=\"0 0 24 24\"\n",
              "     width=\"24px\">\n",
              "    <g>\n",
              "        <path d=\"M19 3H5c-1.1 0-2 .9-2 2v14c0 1.1.9 2 2 2h14c1.1 0 2-.9 2-2V5c0-1.1-.9-2-2-2zM9 17H7v-7h2v7zm4 0h-2V7h2v10zm4 0h-2v-4h2v4z\"/>\n",
              "    </g>\n",
              "</svg>\n",
              "      </button>\n",
              "\n",
              "<style>\n",
              "  .colab-df-quickchart {\n",
              "      --bg-color: #E8F0FE;\n",
              "      --fill-color: #1967D2;\n",
              "      --hover-bg-color: #E2EBFA;\n",
              "      --hover-fill-color: #174EA6;\n",
              "      --disabled-fill-color: #AAA;\n",
              "      --disabled-bg-color: #DDD;\n",
              "  }\n",
              "\n",
              "  [theme=dark] .colab-df-quickchart {\n",
              "      --bg-color: #3B4455;\n",
              "      --fill-color: #D2E3FC;\n",
              "      --hover-bg-color: #434B5C;\n",
              "      --hover-fill-color: #FFFFFF;\n",
              "      --disabled-bg-color: #3B4455;\n",
              "      --disabled-fill-color: #666;\n",
              "  }\n",
              "\n",
              "  .colab-df-quickchart {\n",
              "    background-color: var(--bg-color);\n",
              "    border: none;\n",
              "    border-radius: 50%;\n",
              "    cursor: pointer;\n",
              "    display: none;\n",
              "    fill: var(--fill-color);\n",
              "    height: 32px;\n",
              "    padding: 0;\n",
              "    width: 32px;\n",
              "  }\n",
              "\n",
              "  .colab-df-quickchart:hover {\n",
              "    background-color: var(--hover-bg-color);\n",
              "    box-shadow: 0 1px 2px rgba(60, 64, 67, 0.3), 0 1px 3px 1px rgba(60, 64, 67, 0.15);\n",
              "    fill: var(--button-hover-fill-color);\n",
              "  }\n",
              "\n",
              "  .colab-df-quickchart-complete:disabled,\n",
              "  .colab-df-quickchart-complete:disabled:hover {\n",
              "    background-color: var(--disabled-bg-color);\n",
              "    fill: var(--disabled-fill-color);\n",
              "    box-shadow: none;\n",
              "  }\n",
              "\n",
              "  .colab-df-spinner {\n",
              "    border: 2px solid var(--fill-color);\n",
              "    border-color: transparent;\n",
              "    border-bottom-color: var(--fill-color);\n",
              "    animation:\n",
              "      spin 1s steps(1) infinite;\n",
              "  }\n",
              "\n",
              "  @keyframes spin {\n",
              "    0% {\n",
              "      border-color: transparent;\n",
              "      border-bottom-color: var(--fill-color);\n",
              "      border-left-color: var(--fill-color);\n",
              "    }\n",
              "    20% {\n",
              "      border-color: transparent;\n",
              "      border-left-color: var(--fill-color);\n",
              "      border-top-color: var(--fill-color);\n",
              "    }\n",
              "    30% {\n",
              "      border-color: transparent;\n",
              "      border-left-color: var(--fill-color);\n",
              "      border-top-color: var(--fill-color);\n",
              "      border-right-color: var(--fill-color);\n",
              "    }\n",
              "    40% {\n",
              "      border-color: transparent;\n",
              "      border-right-color: var(--fill-color);\n",
              "      border-top-color: var(--fill-color);\n",
              "    }\n",
              "    60% {\n",
              "      border-color: transparent;\n",
              "      border-right-color: var(--fill-color);\n",
              "    }\n",
              "    80% {\n",
              "      border-color: transparent;\n",
              "      border-right-color: var(--fill-color);\n",
              "      border-bottom-color: var(--fill-color);\n",
              "    }\n",
              "    90% {\n",
              "      border-color: transparent;\n",
              "      border-bottom-color: var(--fill-color);\n",
              "    }\n",
              "  }\n",
              "</style>\n",
              "\n",
              "      <script>\n",
              "        async function quickchart(key) {\n",
              "          const quickchartButtonEl =\n",
              "            document.querySelector('#' + key + ' button');\n",
              "          quickchartButtonEl.disabled = true;  // To prevent multiple clicks.\n",
              "          quickchartButtonEl.classList.add('colab-df-spinner');\n",
              "          try {\n",
              "            const charts = await google.colab.kernel.invokeFunction(\n",
              "                'suggestCharts', [key], {});\n",
              "          } catch (error) {\n",
              "            console.error('Error during call to suggestCharts:', error);\n",
              "          }\n",
              "          quickchartButtonEl.classList.remove('colab-df-spinner');\n",
              "          quickchartButtonEl.classList.add('colab-df-quickchart-complete');\n",
              "        }\n",
              "        (() => {\n",
              "          let quickchartButtonEl =\n",
              "            document.querySelector('#df-73838434-314b-4bd6-b7ed-b65287f0d14d button');\n",
              "          quickchartButtonEl.style.display =\n",
              "            google.colab.kernel.accessAllowed ? 'block' : 'none';\n",
              "        })();\n",
              "      </script>\n",
              "    </div>\n",
              "\n",
              "    </div>\n",
              "  </div>\n"
            ],
            "application/vnd.google.colaboratory.intrinsic+json": {
              "type": "dataframe",
              "variable_name": "df_train",
              "summary": "{\n  \"name\": \"df_train\",\n  \"rows\": 24353,\n  \"fields\": [\n    {\n      \"column\": \"Unnamed: 0\",\n      \"properties\": {\n        \"dtype\": \"number\",\n        \"std\": 7030,\n        \"min\": 0,\n        \"max\": 24352,\n        \"num_unique_values\": 24353,\n        \"samples\": [\n          2579,\n          13868,\n          13020\n        ],\n        \"semantic_type\": \"\",\n        \"description\": \"\"\n      }\n    },\n    {\n      \"column\": \"title\",\n      \"properties\": {\n        \"dtype\": \"string\",\n        \"num_unique_values\": 24062,\n        \"samples\": [\n          \"Obama to sign Puerto Rico debt bill on Thursday: White House\",\n          \"EU: spot checks show confusion, not conspiracy in Kenyan election\",\n          \"Islamic State threatens U.S. attacks over Jerusalem decision: statement\"\n        ],\n        \"semantic_type\": \"\",\n        \"description\": \"\"\n      }\n    },\n    {\n      \"column\": \"text\",\n      \"properties\": {\n        \"dtype\": \"string\",\n        \"num_unique_values\": 24352,\n        \"samples\": [\n          \"Wake up Christians the left won t stop until they ve removed any mention of Christ in your church The Bishop of Stockholm has proposed a church in her diocese remove all signs of the cross and put down markings showing the direction to Mecca for the benefit of Muslim worshippers.Eva Brunne, who was made the world s first openly lesbian bishop by the church of Sweden in 2009, and has a young son with her wife and fellow lesbian priest Gunilla Linden, made the suggestion to make those of other faiths more welcome.The church targeted is the Seamen s mission church in Stockholm s eastern dockyards. The Bishop held a meeting there this year and challenged the priest to explain what he d do if a ship s crew came into port who weren t Christian but wanted to pray.Calling Muslim guests to the church  angels , the Bishop later took to her official blog to explain that removing Christian symbols from the church and preparing the building for Muslim prayer doesn t make a priest any less a defender of the faith. Rather, to do any less would make one  stingy towards people of other faiths .The bishop insisted this wasn t an issue, after all airports and hospitals already had multi-faith prayer rooms, and converting the dockyard church would only bring it up to speed. Regardless, the announcement has aroused protest.Father Patrik Pettersson, one of the priests in her diocese and active in the same parish as the Seaman s mission church has hit back in a blog of his own, complaining there is no way you could equate a consecrated church with a prayer room, remarking  I should have thought a bishop would be able to tell the difference .Calling the bishop s words  theologically unthinking , he asked what was to be done with crucifixes screwed to the walls, and heavy items such as baptismal fonts. Ignoring the rhetorical murmuring , Pettersson wrote:  The only argument bishop Eva really put forward in support of her view is  hospitality  How do you respond to that? Not much of a basis for discussion, as one colleague put it. The theological, ecclesiological, pastoral and working issues are left untouched .Via: Breitbart News\",\n          \"On Wednesday Barack Obama lashed out at CBS reporter Major Garrett after he asked him about the four Americans left behind to languish in Iranian prisons.Former Marine Amir Hekmati, Saeed Abedini and Vahid Salemi are being held in Iranian prisons. (Breitbart)Obama was defending his nuclear deal with Iran when Garrett asked him about the US hostages in Iran.https://youtu.be/rqdVAd25CHUObama: I got to give you credit Major for how you craft those questions. the notion that I m content as I celebrate with American citizens languishing in Iranian jails.   Major, that s nonsense and you should know better.Of course, that is exactly what he did. The Obama administration did nothing to free American hostages during their talks with the Iranian regime.Now we know  Obama released a top Iranian scientist as part of the deal but left the Americans to rot in hell in Iranian prisons. The Times of Israel reported:Mojtaba Atarodi, arrested in California for attempting to acquire equipment for Iran s military-nuclear programs, was released in April as part of back channel talks, Times of Israel told. The contacts, mediated in Oman for years by close colleague of the Sultan, have seen a series of US-Iran prisoner releases, and there may be more to come.The secret back channel of negotiations between Iran and the United States, which led to this month s interim deal in Geneva on Iran s rogue nuclear program, has also seen a series of prisoner releases by both sides, which have played a central role in bridging the distance between the two nations, the Times of Israel has been told.In the most dramatic of those releases, the US in April released a top Iranian scientist, Mojtaba Atarodi, who had been arrested in 2011 for attempting to acquire equipment that could be used for Iran s military-nuclear programs.No wonder he didn t want reporters talking about it!Via: Gateway Pundit\",\n          \"eu un secretarygeneral ban kimoon c meets with greek cypriot president nicos anastasiades l and mustafa akinci r the turkish cypriot leader at the un headquarters in new york september   photo by afp \\ncypriot political leaders have agreed to continue talks in switzerland next month in an attempt to reach an agreement on the reunification of the mediterranean island country the united nations un has announced \\na un spokesman aleem siddique made the announcement on wednesday saying greek cypriot president nicos anastasiades and turkish cypriot leader mustafa akinci will meet at mont pelerin near lake geneva from november  to  \\nsiddique said the two leaders in the presence of the un envoy for cyprus will concentrate their talks on how much territory each side will administer under an envisioned federation and will discuss all other outstanding issues too \\nthe leaders have expressed hope that the switzerland meeting will pave the way for the last phase of talks in line with their shared commitment to do their utmost in order to reach a settlement within  the un spokesman said \\nnegotiations on reuniting the mediterranean island under a single federal roof have made significant headway since anastasiades and akinci resumed talks led by the un nearly  months ago \\nhowever important differences still remain on the question of territorial arrangements security and property rights \\nprevious unmediated talks to reunify the mediterranean island faced a deadlock in october  when turkey announced plans to search for oil and gas in waters off cyprus \\ncyprus has been divided since  after an intervention by turkey which came when a military coup was carried out by individuals who sought to unify the island with greece \\nnearly one decade later in  turkish cypriots declared an independent state which has only been recognized by ankara turkey has some  soldiers stationed in the north of that part of cyprus \\ncyprus has been a european union eu member since  but only the south enjoys full membership benefits loading\"\n        ],\n        \"semantic_type\": \"\",\n        \"description\": \"\"\n      }\n    },\n    {\n      \"column\": \"label\",\n      \"properties\": {\n        \"dtype\": \"number\",\n        \"std\": 0,\n        \"min\": 0,\n        \"max\": 1,\n        \"num_unique_values\": 2,\n        \"samples\": [\n          0,\n          1\n        ],\n        \"semantic_type\": \"\",\n        \"description\": \"\"\n      }\n    }\n  ]\n}"
            }
          },
          "metadata": {},
          "execution_count": 4
        }
      ]
    },
    {
      "cell_type": "code",
      "source": [
        "df_evaluation.head(5)"
      ],
      "metadata": {
        "colab": {
          "base_uri": "https://localhost:8080/",
          "height": 206
        },
        "id": "Z5tx5G7md1hc",
        "outputId": "526ef81a-dc0e-4b15-86e8-d6b3ea6cab2a"
      },
      "execution_count": 5,
      "outputs": [
        {
          "output_type": "execute_result",
          "data": {
            "text/plain": [
              "   Unnamed: 0                                              title  \\\n",
              "0           0  Sanders back in U.S. Senate, blasts 'coloniali...   \n",
              "1           1  Kremlin: Syria peoples' congress being 'active...   \n",
              "2           2   Oregon Cop Convicted Of Shattering Biker’s Co...   \n",
              "3           3   Twitter Erupts With Glee Over #CruzSexScandal...   \n",
              "4           4  MUST WATCH VIDEO: Obama Tries To Trash Trump B...   \n",
              "\n",
              "                                                text  label  \n",
              "0  WASHINGTON (Reuters) - Democratic U.S. preside...      1  \n",
              "1  MOSCOW (Reuters) - A proposal to convene a con...      1  \n",
              "2  In a baffling fit of rage, an Oregon State Pol...      0  \n",
              "3  The last thing any politician running for the ...      0  \n",
              "4  This is too good to miss! Mr. Teleprompter did...      0  "
            ],
            "text/html": [
              "\n",
              "  <div id=\"df-23d6619f-53c4-40d4-8be4-6f8fd8196131\" class=\"colab-df-container\">\n",
              "    <div>\n",
              "<style scoped>\n",
              "    .dataframe tbody tr th:only-of-type {\n",
              "        vertical-align: middle;\n",
              "    }\n",
              "\n",
              "    .dataframe tbody tr th {\n",
              "        vertical-align: top;\n",
              "    }\n",
              "\n",
              "    .dataframe thead th {\n",
              "        text-align: right;\n",
              "    }\n",
              "</style>\n",
              "<table border=\"1\" class=\"dataframe\">\n",
              "  <thead>\n",
              "    <tr style=\"text-align: right;\">\n",
              "      <th></th>\n",
              "      <th>Unnamed: 0</th>\n",
              "      <th>title</th>\n",
              "      <th>text</th>\n",
              "      <th>label</th>\n",
              "    </tr>\n",
              "  </thead>\n",
              "  <tbody>\n",
              "    <tr>\n",
              "      <th>0</th>\n",
              "      <td>0</td>\n",
              "      <td>Sanders back in U.S. Senate, blasts 'coloniali...</td>\n",
              "      <td>WASHINGTON (Reuters) - Democratic U.S. preside...</td>\n",
              "      <td>1</td>\n",
              "    </tr>\n",
              "    <tr>\n",
              "      <th>1</th>\n",
              "      <td>1</td>\n",
              "      <td>Kremlin: Syria peoples' congress being 'active...</td>\n",
              "      <td>MOSCOW (Reuters) - A proposal to convene a con...</td>\n",
              "      <td>1</td>\n",
              "    </tr>\n",
              "    <tr>\n",
              "      <th>2</th>\n",
              "      <td>2</td>\n",
              "      <td>Oregon Cop Convicted Of Shattering Biker’s Co...</td>\n",
              "      <td>In a baffling fit of rage, an Oregon State Pol...</td>\n",
              "      <td>0</td>\n",
              "    </tr>\n",
              "    <tr>\n",
              "      <th>3</th>\n",
              "      <td>3</td>\n",
              "      <td>Twitter Erupts With Glee Over #CruzSexScandal...</td>\n",
              "      <td>The last thing any politician running for the ...</td>\n",
              "      <td>0</td>\n",
              "    </tr>\n",
              "    <tr>\n",
              "      <th>4</th>\n",
              "      <td>4</td>\n",
              "      <td>MUST WATCH VIDEO: Obama Tries To Trash Trump B...</td>\n",
              "      <td>This is too good to miss! Mr. Teleprompter did...</td>\n",
              "      <td>0</td>\n",
              "    </tr>\n",
              "  </tbody>\n",
              "</table>\n",
              "</div>\n",
              "    <div class=\"colab-df-buttons\">\n",
              "\n",
              "  <div class=\"colab-df-container\">\n",
              "    <button class=\"colab-df-convert\" onclick=\"convertToInteractive('df-23d6619f-53c4-40d4-8be4-6f8fd8196131')\"\n",
              "            title=\"Convert this dataframe to an interactive table.\"\n",
              "            style=\"display:none;\">\n",
              "\n",
              "  <svg xmlns=\"http://www.w3.org/2000/svg\" height=\"24px\" viewBox=\"0 -960 960 960\">\n",
              "    <path d=\"M120-120v-720h720v720H120Zm60-500h600v-160H180v160Zm220 220h160v-160H400v160Zm0 220h160v-160H400v160ZM180-400h160v-160H180v160Zm440 0h160v-160H620v160ZM180-180h160v-160H180v160Zm440 0h160v-160H620v160Z\"/>\n",
              "  </svg>\n",
              "    </button>\n",
              "\n",
              "  <style>\n",
              "    .colab-df-container {\n",
              "      display:flex;\n",
              "      gap: 12px;\n",
              "    }\n",
              "\n",
              "    .colab-df-convert {\n",
              "      background-color: #E8F0FE;\n",
              "      border: none;\n",
              "      border-radius: 50%;\n",
              "      cursor: pointer;\n",
              "      display: none;\n",
              "      fill: #1967D2;\n",
              "      height: 32px;\n",
              "      padding: 0 0 0 0;\n",
              "      width: 32px;\n",
              "    }\n",
              "\n",
              "    .colab-df-convert:hover {\n",
              "      background-color: #E2EBFA;\n",
              "      box-shadow: 0px 1px 2px rgba(60, 64, 67, 0.3), 0px 1px 3px 1px rgba(60, 64, 67, 0.15);\n",
              "      fill: #174EA6;\n",
              "    }\n",
              "\n",
              "    .colab-df-buttons div {\n",
              "      margin-bottom: 4px;\n",
              "    }\n",
              "\n",
              "    [theme=dark] .colab-df-convert {\n",
              "      background-color: #3B4455;\n",
              "      fill: #D2E3FC;\n",
              "    }\n",
              "\n",
              "    [theme=dark] .colab-df-convert:hover {\n",
              "      background-color: #434B5C;\n",
              "      box-shadow: 0px 1px 3px 1px rgba(0, 0, 0, 0.15);\n",
              "      filter: drop-shadow(0px 1px 2px rgba(0, 0, 0, 0.3));\n",
              "      fill: #FFFFFF;\n",
              "    }\n",
              "  </style>\n",
              "\n",
              "    <script>\n",
              "      const buttonEl =\n",
              "        document.querySelector('#df-23d6619f-53c4-40d4-8be4-6f8fd8196131 button.colab-df-convert');\n",
              "      buttonEl.style.display =\n",
              "        google.colab.kernel.accessAllowed ? 'block' : 'none';\n",
              "\n",
              "      async function convertToInteractive(key) {\n",
              "        const element = document.querySelector('#df-23d6619f-53c4-40d4-8be4-6f8fd8196131');\n",
              "        const dataTable =\n",
              "          await google.colab.kernel.invokeFunction('convertToInteractive',\n",
              "                                                    [key], {});\n",
              "        if (!dataTable) return;\n",
              "\n",
              "        const docLinkHtml = 'Like what you see? Visit the ' +\n",
              "          '<a target=\"_blank\" href=https://colab.research.google.com/notebooks/data_table.ipynb>data table notebook</a>'\n",
              "          + ' to learn more about interactive tables.';\n",
              "        element.innerHTML = '';\n",
              "        dataTable['output_type'] = 'display_data';\n",
              "        await google.colab.output.renderOutput(dataTable, element);\n",
              "        const docLink = document.createElement('div');\n",
              "        docLink.innerHTML = docLinkHtml;\n",
              "        element.appendChild(docLink);\n",
              "      }\n",
              "    </script>\n",
              "  </div>\n",
              "\n",
              "\n",
              "    <div id=\"df-1dbd44a1-158f-4383-960e-4dcc23ef7732\">\n",
              "      <button class=\"colab-df-quickchart\" onclick=\"quickchart('df-1dbd44a1-158f-4383-960e-4dcc23ef7732')\"\n",
              "                title=\"Suggest charts\"\n",
              "                style=\"display:none;\">\n",
              "\n",
              "<svg xmlns=\"http://www.w3.org/2000/svg\" height=\"24px\"viewBox=\"0 0 24 24\"\n",
              "     width=\"24px\">\n",
              "    <g>\n",
              "        <path d=\"M19 3H5c-1.1 0-2 .9-2 2v14c0 1.1.9 2 2 2h14c1.1 0 2-.9 2-2V5c0-1.1-.9-2-2-2zM9 17H7v-7h2v7zm4 0h-2V7h2v10zm4 0h-2v-4h2v4z\"/>\n",
              "    </g>\n",
              "</svg>\n",
              "      </button>\n",
              "\n",
              "<style>\n",
              "  .colab-df-quickchart {\n",
              "      --bg-color: #E8F0FE;\n",
              "      --fill-color: #1967D2;\n",
              "      --hover-bg-color: #E2EBFA;\n",
              "      --hover-fill-color: #174EA6;\n",
              "      --disabled-fill-color: #AAA;\n",
              "      --disabled-bg-color: #DDD;\n",
              "  }\n",
              "\n",
              "  [theme=dark] .colab-df-quickchart {\n",
              "      --bg-color: #3B4455;\n",
              "      --fill-color: #D2E3FC;\n",
              "      --hover-bg-color: #434B5C;\n",
              "      --hover-fill-color: #FFFFFF;\n",
              "      --disabled-bg-color: #3B4455;\n",
              "      --disabled-fill-color: #666;\n",
              "  }\n",
              "\n",
              "  .colab-df-quickchart {\n",
              "    background-color: var(--bg-color);\n",
              "    border: none;\n",
              "    border-radius: 50%;\n",
              "    cursor: pointer;\n",
              "    display: none;\n",
              "    fill: var(--fill-color);\n",
              "    height: 32px;\n",
              "    padding: 0;\n",
              "    width: 32px;\n",
              "  }\n",
              "\n",
              "  .colab-df-quickchart:hover {\n",
              "    background-color: var(--hover-bg-color);\n",
              "    box-shadow: 0 1px 2px rgba(60, 64, 67, 0.3), 0 1px 3px 1px rgba(60, 64, 67, 0.15);\n",
              "    fill: var(--button-hover-fill-color);\n",
              "  }\n",
              "\n",
              "  .colab-df-quickchart-complete:disabled,\n",
              "  .colab-df-quickchart-complete:disabled:hover {\n",
              "    background-color: var(--disabled-bg-color);\n",
              "    fill: var(--disabled-fill-color);\n",
              "    box-shadow: none;\n",
              "  }\n",
              "\n",
              "  .colab-df-spinner {\n",
              "    border: 2px solid var(--fill-color);\n",
              "    border-color: transparent;\n",
              "    border-bottom-color: var(--fill-color);\n",
              "    animation:\n",
              "      spin 1s steps(1) infinite;\n",
              "  }\n",
              "\n",
              "  @keyframes spin {\n",
              "    0% {\n",
              "      border-color: transparent;\n",
              "      border-bottom-color: var(--fill-color);\n",
              "      border-left-color: var(--fill-color);\n",
              "    }\n",
              "    20% {\n",
              "      border-color: transparent;\n",
              "      border-left-color: var(--fill-color);\n",
              "      border-top-color: var(--fill-color);\n",
              "    }\n",
              "    30% {\n",
              "      border-color: transparent;\n",
              "      border-left-color: var(--fill-color);\n",
              "      border-top-color: var(--fill-color);\n",
              "      border-right-color: var(--fill-color);\n",
              "    }\n",
              "    40% {\n",
              "      border-color: transparent;\n",
              "      border-right-color: var(--fill-color);\n",
              "      border-top-color: var(--fill-color);\n",
              "    }\n",
              "    60% {\n",
              "      border-color: transparent;\n",
              "      border-right-color: var(--fill-color);\n",
              "    }\n",
              "    80% {\n",
              "      border-color: transparent;\n",
              "      border-right-color: var(--fill-color);\n",
              "      border-bottom-color: var(--fill-color);\n",
              "    }\n",
              "    90% {\n",
              "      border-color: transparent;\n",
              "      border-bottom-color: var(--fill-color);\n",
              "    }\n",
              "  }\n",
              "</style>\n",
              "\n",
              "      <script>\n",
              "        async function quickchart(key) {\n",
              "          const quickchartButtonEl =\n",
              "            document.querySelector('#' + key + ' button');\n",
              "          quickchartButtonEl.disabled = true;  // To prevent multiple clicks.\n",
              "          quickchartButtonEl.classList.add('colab-df-spinner');\n",
              "          try {\n",
              "            const charts = await google.colab.kernel.invokeFunction(\n",
              "                'suggestCharts', [key], {});\n",
              "          } catch (error) {\n",
              "            console.error('Error during call to suggestCharts:', error);\n",
              "          }\n",
              "          quickchartButtonEl.classList.remove('colab-df-spinner');\n",
              "          quickchartButtonEl.classList.add('colab-df-quickchart-complete');\n",
              "        }\n",
              "        (() => {\n",
              "          let quickchartButtonEl =\n",
              "            document.querySelector('#df-1dbd44a1-158f-4383-960e-4dcc23ef7732 button');\n",
              "          quickchartButtonEl.style.display =\n",
              "            google.colab.kernel.accessAllowed ? 'block' : 'none';\n",
              "        })();\n",
              "      </script>\n",
              "    </div>\n",
              "\n",
              "    </div>\n",
              "  </div>\n"
            ],
            "application/vnd.google.colaboratory.intrinsic+json": {
              "type": "dataframe",
              "variable_name": "df_evaluation",
              "summary": "{\n  \"name\": \"df_evaluation\",\n  \"rows\": 8117,\n  \"fields\": [\n    {\n      \"column\": \"Unnamed: 0\",\n      \"properties\": {\n        \"dtype\": \"number\",\n        \"std\": 2343,\n        \"min\": 0,\n        \"max\": 8116,\n        \"num_unique_values\": 8117,\n        \"samples\": [\n          6598,\n          7927,\n          1691\n        ],\n        \"semantic_type\": \"\",\n        \"description\": \"\"\n      }\n    },\n    {\n      \"column\": \"title\",\n      \"properties\": {\n        \"dtype\": \"string\",\n        \"num_unique_values\": 8086,\n        \"samples\": [\n          \"Republicans voice growing doubts on U.S. healthcare bill's fate\",\n          \"German president says all parties have duty to try to form government\",\n          \" Bruce Springsteen Just Unleashed His Fury On North Carolina And It Is Glorious\"\n        ],\n        \"semantic_type\": \"\",\n        \"description\": \"\"\n      }\n    },\n    {\n      \"column\": \"text\",\n      \"properties\": {\n        \"dtype\": \"string\",\n        \"num_unique_values\": 8117,\n        \"samples\": [\n          \"LUANDA (Reuters) - Angola s ruling MPLA party has won a general election by taking 61.07 percent of the vote, the electoral commission said on Wednesday, making Jo o Louren o the next president of sub-Saharan Africa s third-largest economy. He will replace Jose Eduardo dos Santos, who steps down after 38 years at the helm but will continue as head of the People s Movement for the Liberation of Angola (MPLA). The main opposition National Union for the Total Independence of Angola (UNITA) took 26.67 percent, with the smaller opposition party CASA-CE winning 9.44 percent.  Mission accomplished,  Louren o told supporters at his party s headquarters in Luanda.  We ll produce a better future for the country and the people of Angola,  he said in his first comments as president-elect. He is expected to take office on Sept. 21. UNITA, which has repeatedly complained that the electoral process has been non-transparent and illegal, declined to comment after the results on Wednesday. A spokesman told Reuters a statement will be made on Thursday. UNITA has previously said it will appeal the results. Speaking earlier on Wednesday, the spokeswoman for the National Electoral Commission Julia Ferreira rejected the opposition s complaints as having a  lack of clarity and objectivity , adding sufficient proof had not been presented. Electoral observers have said the vote on Aug 23 was reasonably free and fair. The head of the African Union s observation mission, Jose Maria Neves, congratulated Angola on a poll he said served as a  reference for the continent . Speaking before announcing definitive election results, President of the National Electoral Commission Andr  da Silva Neto asked the parties to accept the election results. On the streets of Luanda, cheering and the honking of horns was heard as residents celebrated another electoral win for the MPLA, which has maintained an unbroken hold on power since Africa s second-largest crude producer gained independence from Portugal in 1975. Louren o will be only the country s third president in that time. A quiet 63-year-old more used to army barracks and the closed doors of party politics than the public spotlight, he has denied he will remain in the shadow of his predecessor dos Santos. Louren o has promised to kick-start the economy and has not ruled out deals with the World Bank and International Monetary Fund to help restructure it. Angola imports everything from washing powder to long-life milk at huge cost. MPLA will have 150 lawmakers, giving them the two-thirds parliamentary majority needed to pass any form of legislation.\",\n          \"In an announcement that can put a lot of minds at ease, former Mayor of New York City Michael Bloomberg has decided that he will not be running for president. If he had decided to run, it would have undoubtedly split the vote, and could have in turn resulted in Donald Trump being president.In an editorial on Bloomberg View, the former mayor wrote: Over the last several months, many Americans have urged me to run for president as an independent, and some who don t like the current candidates have said it is my patriotic duty to do so. I appreciate their appeals, and I have given the question serious consideration. The deadline to answer it is now, because of ballot access requirements. But when I look at the data, it s clear to me that if I entered the race, I could not win. I believe I could win a number of diverse states   but not enough to win the 270 Electoral College votes necessary to win the presidency. Bloomberg Politics pointed out: In order to win, Bloomberg would have had to win pluralities in enough states to capture 270 electoral votes. The Constitution also provides for the election to be thrown into the House of Representatives to decide if no candidate can secure those votes, though that method has been used only twice, after the elections in 1800 and 1824. That body is controlled by a Republican majority. It would be almost certain the Republican nominated would ve won the presidency by any way the votes tallied.This was a very smart move on behalf of Bloomberg, putting country before his personal want to be the next Commander-in Chief. It s looking more and more like Trump will be the Republican nominee and Clinton the Democratic. Bloomberg seems to realize that in order for the Democratic candidate to win in the general election they are going to need all the votes they can get. Good on Bloomberg for this move.Featured image via Flickr\",\n          \"Judge Jeanine Pirro SLAMS Hillary Clinton after Clinton blamed WikiLeaks and Jim Comey s letter on October 28th for losing the election to President Trump.Judge Jeanine called Clinton a  loser  and told her to go back into the woods Hillary, snap out of it,  Pirro said.  I m tired of going through this with you. You re a two-time loser who lost because you were a lousy candidate, you didn t have a message, you lied every time you opened your mouth; you didn t know what states to campaign in, you put our national security at risk with your amateur email setup, you were in a foundation that was nothing more than an organized criminal enterprise parading as a charity, four men died under your watch as you lied about a video, and there were a billion dollars missing from the State Department when you left. And I could go on and on, but I just don t have the time. So, stop with the poor me nonsense. We ve had it with you Clintons always claiming victimhood. The two of you haven t followed the rules since the day you both showed up in your bell bottoms in Arkansas. Be careful, Hillary. Be very, very careful. You pulled the wool over Jim Comey s eyes once, and you actually got the president to say you re a nice lady. Don t be so sure you re going to get away with your new game, given your illegal, ill-advised, and incompetent instincts.You re a loser, Hillary. Face it. Face it, and get back in the woods!\"\n        ],\n        \"semantic_type\": \"\",\n        \"description\": \"\"\n      }\n    },\n    {\n      \"column\": \"label\",\n      \"properties\": {\n        \"dtype\": \"number\",\n        \"std\": 0,\n        \"min\": 0,\n        \"max\": 1,\n        \"num_unique_values\": 2,\n        \"samples\": [\n          0,\n          1\n        ],\n        \"semantic_type\": \"\",\n        \"description\": \"\"\n      }\n    }\n  ]\n}"
            }
          },
          "metadata": {},
          "execution_count": 5
        }
      ]
    },
    {
      "cell_type": "code",
      "source": [
        "print(\"\\nTrain Data Summary:\")\n",
        "print(df_train.info())\n",
        "\n",
        "print(\"\\nEvaluation Data Summary:\")\n",
        "print(df_evaluation.info())"
      ],
      "metadata": {
        "colab": {
          "base_uri": "https://localhost:8080/"
        },
        "id": "SAfs18bceABk",
        "outputId": "72959cba-d0dd-4a9d-a0a0-7954721bc69c"
      },
      "execution_count": 6,
      "outputs": [
        {
          "output_type": "stream",
          "name": "stdout",
          "text": [
            "\n",
            "Train Data Summary:\n",
            "<class 'pandas.core.frame.DataFrame'>\n",
            "RangeIndex: 24353 entries, 0 to 24352\n",
            "Data columns (total 4 columns):\n",
            " #   Column      Non-Null Count  Dtype \n",
            "---  ------      --------------  ----- \n",
            " 0   Unnamed: 0  24353 non-null  int64 \n",
            " 1   title       24353 non-null  object\n",
            " 2   text        24353 non-null  object\n",
            " 3   label       24353 non-null  int64 \n",
            "dtypes: int64(2), object(2)\n",
            "memory usage: 761.2+ KB\n",
            "None\n",
            "\n",
            "Evaluation Data Summary:\n",
            "<class 'pandas.core.frame.DataFrame'>\n",
            "RangeIndex: 8117 entries, 0 to 8116\n",
            "Data columns (total 4 columns):\n",
            " #   Column      Non-Null Count  Dtype \n",
            "---  ------      --------------  ----- \n",
            " 0   Unnamed: 0  8117 non-null   int64 \n",
            " 1   title       8117 non-null   object\n",
            " 2   text        8117 non-null   object\n",
            " 3   label       8117 non-null   int64 \n",
            "dtypes: int64(2), object(2)\n",
            "memory usage: 253.8+ KB\n",
            "None\n"
          ]
        }
      ]
    },
    {
      "cell_type": "code",
      "source": [
        "import matplotlib.pyplot as plt\n",
        "\n",
        "def plot_label_distribution(df1, df2, title1, title2):\n",
        "    fig, axes = plt.subplots(1, 2, figsize=(12, 6))\n",
        "\n",
        "    label_counts1 = df1['label'].value_counts()\n",
        "    axes[0].pie(label_counts1, labels=label_counts1.index, autopct='%1.1f%%', startangle=140)\n",
        "    axes[0].set_title(f'{title1} - Label Distribution')\n",
        "    axes[0].axis('equal')\n",
        "\n",
        "    label_counts2 = df2['label'].value_counts()\n",
        "    axes[1].pie(label_counts2, labels=label_counts2.index, autopct='%1.1f%%', startangle=140)\n",
        "    axes[1].set_title(f'{title2} - Label Distribution')\n",
        "    axes[1].axis('equal')\n",
        "\n",
        "    plt.tight_layout()\n",
        "    plt.show()\n",
        "\n",
        "plot_label_distribution(df_train, df_evaluation, \"Train Set\", \"Evaluation Set\")\n"
      ],
      "metadata": {
        "colab": {
          "base_uri": "https://localhost:8080/",
          "height": 607
        },
        "id": "fxg-mUwReLMN",
        "outputId": "3364f5c9-f7cc-41ea-f250-d0c6c654d533"
      },
      "execution_count": 7,
      "outputs": [
        {
          "output_type": "display_data",
          "data": {
            "text/plain": [
              "<Figure size 1200x600 with 2 Axes>"
            ],
            "image/png": "[encoded data removed]"
          },
          "metadata": {}
        }
      ]
    },
    {
      "cell_type": "code",
      "source": [
        "df_train['sentiment_polarity'] = df_train['text'].apply(lambda x: TextBlob(str(x)).sentiment.polarity)\n",
        "\n",
        "df_train['sentiment_label'] = df_train['sentiment_polarity'].apply(\n",
        "    lambda x: 'positive' if x > 0 else 'negative'\n",
        ")"
      ],
      "metadata": {
        "id": "gkkAuJbveAAB"
      },
      "execution_count": 9,
      "outputs": []
    },
    {
      "cell_type": "code",
      "source": [
        "df_evaluation.head(5)"
      ],
      "metadata": {
        "colab": {
          "base_uri": "https://localhost:8080/",
          "height": 206
        },
        "id": "F1tbAP2BgzOs",
        "outputId": "32093720-0e86-484b-8e22-974f54a331b6"
      },
      "execution_count": 10,
      "outputs": [
        {
          "output_type": "execute_result",
          "data": {
            "text/plain": [
              "   Unnamed: 0                                              title  \\\n",
              "0           0  Sanders back in U.S. Senate, blasts 'coloniali...   \n",
              "1           1  Kremlin: Syria peoples' congress being 'active...   \n",
              "2           2   Oregon Cop Convicted Of Shattering Biker’s Co...   \n",
              "3           3   Twitter Erupts With Glee Over #CruzSexScandal...   \n",
              "4           4  MUST WATCH VIDEO: Obama Tries To Trash Trump B...   \n",
              "\n",
              "                                                text  label  \n",
              "0  WASHINGTON (Reuters) - Democratic U.S. preside...      1  \n",
              "1  MOSCOW (Reuters) - A proposal to convene a con...      1  \n",
              "2  In a baffling fit of rage, an Oregon State Pol...      0  \n",
              "3  The last thing any politician running for the ...      0  \n",
              "4  This is too good to miss! Mr. Teleprompter did...      0  "
            ],
            "text/html": [
              "\n",
              "  <div id=\"df-fa618cfc-1e9d-4936-aa80-f722ea3fb79d\" class=\"colab-df-container\">\n",
              "    <div>\n",
              "<style scoped>\n",
              "    .dataframe tbody tr th:only-of-type {\n",
              "        vertical-align: middle;\n",
              "    }\n",
              "\n",
              "    .dataframe tbody tr th {\n",
              "        vertical-align: top;\n",
              "    }\n",
              "\n",
              "    .dataframe thead th {\n",
              "        text-align: right;\n",
              "    }\n",
              "</style>\n",
              "<table border=\"1\" class=\"dataframe\">\n",
              "  <thead>\n",
              "    <tr style=\"text-align: right;\">\n",
              "      <th></th>\n",
              "      <th>Unnamed: 0</th>\n",
              "      <th>title</th>\n",
              "      <th>text</th>\n",
              "      <th>label</th>\n",
              "    </tr>\n",
              "  </thead>\n",
              "  <tbody>\n",
              "    <tr>\n",
              "      <th>0</th>\n",
              "      <td>0</td>\n",
              "      <td>Sanders back in U.S. Senate, blasts 'coloniali...</td>\n",
              "      <td>WASHINGTON (Reuters) - Democratic U.S. preside...</td>\n",
              "      <td>1</td>\n",
              "    </tr>\n",
              "    <tr>\n",
              "      <th>1</th>\n",
              "      <td>1</td>\n",
              "      <td>Kremlin: Syria peoples' congress being 'active...</td>\n",
              "      <td>MOSCOW (Reuters) - A proposal to convene a con...</td>\n",
              "      <td>1</td>\n",
              "    </tr>\n",
              "    <tr>\n",
              "      <th>2</th>\n",
              "      <td>2</td>\n",
              "      <td>Oregon Cop Convicted Of Shattering Biker’s Co...</td>\n",
              "      <td>In a baffling fit of rage, an Oregon State Pol...</td>\n",
              "      <td>0</td>\n",
              "    </tr>\n",
              "    <tr>\n",
              "      <th>3</th>\n",
              "      <td>3</td>\n",
              "      <td>Twitter Erupts With Glee Over #CruzSexScandal...</td>\n",
              "      <td>The last thing any politician running for the ...</td>\n",
              "      <td>0</td>\n",
              "    </tr>\n",
              "    <tr>\n",
              "      <th>4</th>\n",
              "      <td>4</td>\n",
              "      <td>MUST WATCH VIDEO: Obama Tries To Trash Trump B...</td>\n",
              "      <td>This is too good to miss! Mr. Teleprompter did...</td>\n",
              "      <td>0</td>\n",
              "    </tr>\n",
              "  </tbody>\n",
              "</table>\n",
              "</div>\n",
              "    <div class=\"colab-df-buttons\">\n",
              "\n",
              "  <div class=\"colab-df-container\">\n",
              "    <button class=\"colab-df-convert\" onclick=\"convertToInteractive('df-fa618cfc-1e9d-4936-aa80-f722ea3fb79d')\"\n",
              "            title=\"Convert this dataframe to an interactive table.\"\n",
              "            style=\"display:none;\">\n",
              "\n",
              "  <svg xmlns=\"http://www.w3.org/2000/svg\" height=\"24px\" viewBox=\"0 -960 960 960\">\n",
              "    <path d=\"M120-120v-720h720v720H120Zm60-500h600v-160H180v160Zm220 220h160v-160H400v160Zm0 220h160v-160H400v160ZM180-400h160v-160H180v160Zm440 0h160v-160H620v160ZM180-180h160v-160H180v160Zm440 0h160v-160H620v160Z\"/>\n",
              "  </svg>\n",
              "    </button>\n",
              "\n",
              "  <style>\n",
              "    .colab-df-container {\n",
              "      display:flex;\n",
              "      gap: 12px;\n",
              "    }\n",
              "\n",
              "    .colab-df-convert {\n",
              "      background-color: #E8F0FE;\n",
              "      border: none;\n",
              "      border-radius: 50%;\n",
              "      cursor: pointer;\n",
              "      display: none;\n",
              "      fill: #1967D2;\n",
              "      height: 32px;\n",
              "      padding: 0 0 0 0;\n",
              "      width: 32px;\n",
              "    }\n",
              "\n",
              "    .colab-df-convert:hover {\n",
              "      background-color: #E2EBFA;\n",
              "      box-shadow: 0px 1px 2px rgba(60, 64, 67, 0.3), 0px 1px 3px 1px rgba(60, 64, 67, 0.15);\n",
              "      fill: #174EA6;\n",
              "    }\n",
              "\n",
              "    .colab-df-buttons div {\n",
              "      margin-bottom: 4px;\n",
              "    }\n",
              "\n",
              "    [theme=dark] .colab-df-convert {\n",
              "      background-color: #3B4455;\n",
              "      fill: #D2E3FC;\n",
              "    }\n",
              "\n",
              "    [theme=dark] .colab-df-convert:hover {\n",
              "      background-color: #434B5C;\n",
              "      box-shadow: 0px 1px 3px 1px rgba(0, 0, 0, 0.15);\n",
              "      filter: drop-shadow(0px 1px 2px rgba(0, 0, 0, 0.3));\n",
              "      fill: #FFFFFF;\n",
              "    }\n",
              "  </style>\n",
              "\n",
              "    <script>\n",
              "      const buttonEl =\n",
              "        document.querySelector('#df-fa618cfc-1e9d-4936-aa80-f722ea3fb79d button.colab-df-convert');\n",
              "      buttonEl.style.display =\n",
              "        google.colab.kernel.accessAllowed ? 'block' : 'none';\n",
              "\n",
              "      async function convertToInteractive(key) {\n",
              "        const element = document.querySelector('#df-fa618cfc-1e9d-4936-aa80-f722ea3fb79d');\n",
              "        const dataTable =\n",
              "          await google.colab.kernel.invokeFunction('convertToInteractive',\n",
              "                                                    [key], {});\n",
              "        if (!dataTable) return;\n",
              "\n",
              "        const docLinkHtml = 'Like what you see? Visit the ' +\n",
              "          '<a target=\"_blank\" href=https://colab.research.google.com/notebooks/data_table.ipynb>data table notebook</a>'\n",
              "          + ' to learn more about interactive tables.';\n",
              "        element.innerHTML = '';\n",
              "        dataTable['output_type'] = 'display_data';\n",
              "        await google.colab.output.renderOutput(dataTable, element);\n",
              "        const docLink = document.createElement('div');\n",
              "        docLink.innerHTML = docLinkHtml;\n",
              "        element.appendChild(docLink);\n",
              "      }\n",
              "    </script>\n",
              "  </div>\n",
              "\n",
              "\n",
              "    <div id=\"df-8eb30f4f-f91a-484f-99e8-1252210bfb9a\">\n",
              "      <button class=\"colab-df-quickchart\" onclick=\"quickchart('df-8eb30f4f-f91a-484f-99e8-1252210bfb9a')\"\n",
              "                title=\"Suggest charts\"\n",
              "                style=\"display:none;\">\n",
              "\n",
              "<svg xmlns=\"http://www.w3.org/2000/svg\" height=\"24px\"viewBox=\"0 0 24 24\"\n",
              "     width=\"24px\">\n",
              "    <g>\n",
              "        <path d=\"M19 3H5c-1.1 0-2 .9-2 2v14c0 1.1.9 2 2 2h14c1.1 0 2-.9 2-2V5c0-1.1-.9-2-2-2zM9 17H7v-7h2v7zm4 0h-2V7h2v10zm4 0h-2v-4h2v4z\"/>\n",
              "    </g>\n",
              "</svg>\n",
              "      </button>\n",
              "\n",
              "<style>\n",
              "  .colab-df-quickchart {\n",
              "      --bg-color: #E8F0FE;\n",
              "      --fill-color: #1967D2;\n",
              "      --hover-bg-color: #E2EBFA;\n",
              "      --hover-fill-color: #174EA6;\n",
              "      --disabled-fill-color: #AAA;\n",
              "      --disabled-bg-color: #DDD;\n",
              "  }\n",
              "\n",
              "  [theme=dark] .colab-df-quickchart {\n",
              "      --bg-color: #3B4455;\n",
              "      --fill-color: #D2E3FC;\n",
              "      --hover-bg-color: #434B5C;\n",
              "      --hover-fill-color: #FFFFFF;\n",
              "      --disabled-bg-color: #3B4455;\n",
              "      --disabled-fill-color: #666;\n",
              "  }\n",
              "\n",
              "  .colab-df-quickchart {\n",
              "    background-color: var(--bg-color);\n",
              "    border: none;\n",
              "    border-radius: 50%;\n",
              "    cursor: pointer;\n",
              "    display: none;\n",
              "    fill: var(--fill-color);\n",
              "    height: 32px;\n",
              "    padding: 0;\n",
              "    width: 32px;\n",
              "  }\n",
              "\n",
              "  .colab-df-quickchart:hover {\n",
              "    background-color: var(--hover-bg-color);\n",
              "    box-shadow: 0 1px 2px rgba(60, 64, 67, 0.3), 0 1px 3px 1px rgba(60, 64, 67, 0.15);\n",
              "    fill: var(--button-hover-fill-color);\n",
              "  }\n",
              "\n",
              "  .colab-df-quickchart-complete:disabled,\n",
              "  .colab-df-quickchart-complete:disabled:hover {\n",
              "    background-color: var(--disabled-bg-color);\n",
              "    fill: var(--disabled-fill-color);\n",
              "    box-shadow: none;\n",
              "  }\n",
              "\n",
              "  .colab-df-spinner {\n",
              "    border: 2px solid var(--fill-color);\n",
              "    border-color: transparent;\n",
              "    border-bottom-color: var(--fill-color);\n",
              "    animation:\n",
              "      spin 1s steps(1) infinite;\n",
              "  }\n",
              "\n",
              "  @keyframes spin {\n",
              "    0% {\n",
              "      border-color: transparent;\n",
              "      border-bottom-color: var(--fill-color);\n",
              "      border-left-color: var(--fill-color);\n",
              "    }\n",
              "    20% {\n",
              "      border-color: transparent;\n",
              "      border-left-color: var(--fill-color);\n",
              "      border-top-color: var(--fill-color);\n",
              "    }\n",
              "    30% {\n",
              "      border-color: transparent;\n",
              "      border-left-color: var(--fill-color);\n",
              "      border-top-color: var(--fill-color);\n",
              "      border-right-color: var(--fill-color);\n",
              "    }\n",
              "    40% {\n",
              "      border-color: transparent;\n",
              "      border-right-color: var(--fill-color);\n",
              "      border-top-color: var(--fill-color);\n",
              "    }\n",
              "    60% {\n",
              "      border-color: transparent;\n",
              "      border-right-color: var(--fill-color);\n",
              "    }\n",
              "    80% {\n",
              "      border-color: transparent;\n",
              "      border-right-color: var(--fill-color);\n",
              "      border-bottom-color: var(--fill-color);\n",
              "    }\n",
              "    90% {\n",
              "      border-color: transparent;\n",
              "      border-bottom-color: var(--fill-color);\n",
              "    }\n",
              "  }\n",
              "</style>\n",
              "\n",
              "      <script>\n",
              "        async function quickchart(key) {\n",
              "          const quickchartButtonEl =\n",
              "            document.querySelector('#' + key + ' button');\n",
              "          quickchartButtonEl.disabled = true;  // To prevent multiple clicks.\n",
              "          quickchartButtonEl.classList.add('colab-df-spinner');\n",
              "          try {\n",
              "            const charts = await google.colab.kernel.invokeFunction(\n",
              "                'suggestCharts', [key], {});\n",
              "          } catch (error) {\n",
              "            console.error('Error during call to suggestCharts:', error);\n",
              "          }\n",
              "          quickchartButtonEl.classList.remove('colab-df-spinner');\n",
              "          quickchartButtonEl.classList.add('colab-df-quickchart-complete');\n",
              "        }\n",
              "        (() => {\n",
              "          let quickchartButtonEl =\n",
              "            document.querySelector('#df-8eb30f4f-f91a-484f-99e8-1252210bfb9a button');\n",
              "          quickchartButtonEl.style.display =\n",
              "            google.colab.kernel.accessAllowed ? 'block' : 'none';\n",
              "        })();\n",
              "      </script>\n",
              "    </div>\n",
              "\n",
              "    </div>\n",
              "  </div>\n"
            ],
            "application/vnd.google.colaboratory.intrinsic+json": {
              "type": "dataframe",
              "variable_name": "df_evaluation",
              "summary": "{\n  \"name\": \"df_evaluation\",\n  \"rows\": 8117,\n  \"fields\": [\n    {\n      \"column\": \"Unnamed: 0\",\n      \"properties\": {\n        \"dtype\": \"number\",\n        \"std\": 2343,\n        \"min\": 0,\n        \"max\": 8116,\n        \"num_unique_values\": 8117,\n        \"samples\": [\n          6598,\n          7927,\n          1691\n        ],\n        \"semantic_type\": \"\",\n        \"description\": \"\"\n      }\n    },\n    {\n      \"column\": \"title\",\n      \"properties\": {\n        \"dtype\": \"string\",\n        \"num_unique_values\": 8086,\n        \"samples\": [\n          \"Republicans voice growing doubts on U.S. healthcare bill's fate\",\n          \"German president says all parties have duty to try to form government\",\n          \" Bruce Springsteen Just Unleashed His Fury On North Carolina And It Is Glorious\"\n        ],\n        \"semantic_type\": \"\",\n        \"description\": \"\"\n      }\n    },\n    {\n      \"column\": \"text\",\n      \"properties\": {\n        \"dtype\": \"string\",\n        \"num_unique_values\": 8117,\n        \"samples\": [\n          \"LUANDA (Reuters) - Angola s ruling MPLA party has won a general election by taking 61.07 percent of the vote, the electoral commission said on Wednesday, making Jo o Louren o the next president of sub-Saharan Africa s third-largest economy. He will replace Jose Eduardo dos Santos, who steps down after 38 years at the helm but will continue as head of the People s Movement for the Liberation of Angola (MPLA). The main opposition National Union for the Total Independence of Angola (UNITA) took 26.67 percent, with the smaller opposition party CASA-CE winning 9.44 percent.  Mission accomplished,  Louren o told supporters at his party s headquarters in Luanda.  We ll produce a better future for the country and the people of Angola,  he said in his first comments as president-elect. He is expected to take office on Sept. 21. UNITA, which has repeatedly complained that the electoral process has been non-transparent and illegal, declined to comment after the results on Wednesday. A spokesman told Reuters a statement will be made on Thursday. UNITA has previously said it will appeal the results. Speaking earlier on Wednesday, the spokeswoman for the National Electoral Commission Julia Ferreira rejected the opposition s complaints as having a  lack of clarity and objectivity , adding sufficient proof had not been presented. Electoral observers have said the vote on Aug 23 was reasonably free and fair. The head of the African Union s observation mission, Jose Maria Neves, congratulated Angola on a poll he said served as a  reference for the continent . Speaking before announcing definitive election results, President of the National Electoral Commission Andr  da Silva Neto asked the parties to accept the election results. On the streets of Luanda, cheering and the honking of horns was heard as residents celebrated another electoral win for the MPLA, which has maintained an unbroken hold on power since Africa s second-largest crude producer gained independence from Portugal in 1975. Louren o will be only the country s third president in that time. A quiet 63-year-old more used to army barracks and the closed doors of party politics than the public spotlight, he has denied he will remain in the shadow of his predecessor dos Santos. Louren o has promised to kick-start the economy and has not ruled out deals with the World Bank and International Monetary Fund to help restructure it. Angola imports everything from washing powder to long-life milk at huge cost. MPLA will have 150 lawmakers, giving them the two-thirds parliamentary majority needed to pass any form of legislation.\",\n          \"In an announcement that can put a lot of minds at ease, former Mayor of New York City Michael Bloomberg has decided that he will not be running for president. If he had decided to run, it would have undoubtedly split the vote, and could have in turn resulted in Donald Trump being president.In an editorial on Bloomberg View, the former mayor wrote: Over the last several months, many Americans have urged me to run for president as an independent, and some who don t like the current candidates have said it is my patriotic duty to do so. I appreciate their appeals, and I have given the question serious consideration. The deadline to answer it is now, because of ballot access requirements. But when I look at the data, it s clear to me that if I entered the race, I could not win. I believe I could win a number of diverse states   but not enough to win the 270 Electoral College votes necessary to win the presidency. Bloomberg Politics pointed out: In order to win, Bloomberg would have had to win pluralities in enough states to capture 270 electoral votes. The Constitution also provides for the election to be thrown into the House of Representatives to decide if no candidate can secure those votes, though that method has been used only twice, after the elections in 1800 and 1824. That body is controlled by a Republican majority. It would be almost certain the Republican nominated would ve won the presidency by any way the votes tallied.This was a very smart move on behalf of Bloomberg, putting country before his personal want to be the next Commander-in Chief. It s looking more and more like Trump will be the Republican nominee and Clinton the Democratic. Bloomberg seems to realize that in order for the Democratic candidate to win in the general election they are going to need all the votes they can get. Good on Bloomberg for this move.Featured image via Flickr\",\n          \"Judge Jeanine Pirro SLAMS Hillary Clinton after Clinton blamed WikiLeaks and Jim Comey s letter on October 28th for losing the election to President Trump.Judge Jeanine called Clinton a  loser  and told her to go back into the woods Hillary, snap out of it,  Pirro said.  I m tired of going through this with you. You re a two-time loser who lost because you were a lousy candidate, you didn t have a message, you lied every time you opened your mouth; you didn t know what states to campaign in, you put our national security at risk with your amateur email setup, you were in a foundation that was nothing more than an organized criminal enterprise parading as a charity, four men died under your watch as you lied about a video, and there were a billion dollars missing from the State Department when you left. And I could go on and on, but I just don t have the time. So, stop with the poor me nonsense. We ve had it with you Clintons always claiming victimhood. The two of you haven t followed the rules since the day you both showed up in your bell bottoms in Arkansas. Be careful, Hillary. Be very, very careful. You pulled the wool over Jim Comey s eyes once, and you actually got the president to say you re a nice lady. Don t be so sure you re going to get away with your new game, given your illegal, ill-advised, and incompetent instincts.You re a loser, Hillary. Face it. Face it, and get back in the woods!\"\n        ],\n        \"semantic_type\": \"\",\n        \"description\": \"\"\n      }\n    },\n    {\n      \"column\": \"label\",\n      \"properties\": {\n        \"dtype\": \"number\",\n        \"std\": 0,\n        \"min\": 0,\n        \"max\": 1,\n        \"num_unique_values\": 2,\n        \"samples\": [\n          0,\n          1\n        ],\n        \"semantic_type\": \"\",\n        \"description\": \"\"\n      }\n    }\n  ]\n}"
            }
          },
          "metadata": {},
          "execution_count": 10
        }
      ]
    },
    {
      "cell_type": "code",
      "source": [
        "plt.figure(figsize=(5, 8))\n",
        "sns.boxplot(data=df_train, x='label', y='sentiment_polarity')\n",
        "plt.title('Sentiment Polarity by Label')\n",
        "plt.xlabel('Label')\n",
        "plt.ylabel('Sentiment Polarity')\n",
        "plt.grid(True)\n",
        "plt.show()"
      ],
      "metadata": {
        "colab": {
          "base_uri": "https://localhost:8080/",
          "height": 718
        },
        "id": "wn2qrAbUd_-A",
        "outputId": "14b09a7f-5d15-4f69-91e0-f0cd0f530bfa"
      },
      "execution_count": 11,
      "outputs": [
        {
          "output_type": "display_data",
          "data": {
            "text/plain": [
              "<Figure size 500x800 with 1 Axes>"
            ],
            "image/png": "[encoded data removed]"
          },
          "metadata": {}
        }
      ]
    },
    {
      "cell_type": "markdown",
      "source": [
        "The boxplot comparing sentiment polarity across real and fake news articles shows that both categories have very similar distributions. The median polarity, spread, and presence of outliers are nearly identical between the two groups. This suggests that sentiment does not clearly distinguish between real and fake news. Both types of articles can express positive, negative, or neutral sentiment, so sentiment polarity alone is unlikely to be a reliable feature for classification in this context."
      ],
      "metadata": {
        "id": "azLQ7AFXia8q"
      }
    },
    {
      "cell_type": "markdown",
      "source": [
        "Since I have the labels and for the purpose of this assignment, let's work on a BiLSTM model to differentiate. Previously I worked with a BiLSTM model on week 4 as well, but I'm not sure whether it can perform well here."
      ],
      "metadata": {
        "id": "Mbaunztsih3O"
      }
    },
    {
      "cell_type": "code",
      "source": [
        "df_train['char_count'] = df_train['text'].astype(str).apply(len)\n",
        "df_evaluation['char_count'] = df_evaluation['text'].astype(str).apply(len)\n",
        "\n",
        "\n",
        "plt.figure(figsize=(10, 6))\n",
        "plt.hist(df_train['char_count'], bins=50, color='green', alpha=0.4, label='Train')\n",
        "plt.hist(df_evaluation['char_count'], bins=50, color='red', alpha=0.4, label='Evaluation')\n",
        "plt.title('Character Count Distribution (Train vs Evaluation)')\n",
        "plt.xlabel('Character Count')\n",
        "plt.ylabel('Frequency')\n",
        "plt.legend()\n",
        "plt.grid(True)\n",
        "plt.show()"
      ],
      "metadata": {
        "colab": {
          "base_uri": "https://localhost:8080/",
          "height": 564
        },
        "id": "vFujMA9cd_8X",
        "outputId": "084b4147-f11d-4eeb-ae0f-280e0acb7ec5"
      },
      "execution_count": 12,
      "outputs": [
        {
          "output_type": "display_data",
          "data": {
            "text/plain": [
              "<Figure size 1000x600 with 1 Axes>"
            ],
            "image/png": "[encoded data removed]"
          },
          "metadata": {}
        }
      ]
    },
    {
      "cell_type": "markdown",
      "source": [
        "I think I can justifiably truncate at around 6000 characters ~ 1500 tokens, given that the 95th percentile is only about 5600 characters."
      ],
      "metadata": {
        "id": "H1raJQNzkjaz"
      }
    },
    {
      "cell_type": "code",
      "source": [
        "char_count_95 = df_train['char_count'].quantile(0.95)\n",
        "print(f\"95th percentile character count: {char_count_95}\")"
      ],
      "metadata": {
        "colab": {
          "base_uri": "https://localhost:8080/"
        },
        "id": "ZDmMi3G3d_6e",
        "outputId": "d029098a-9179-4800-cf75-c75afbeafd1a"
      },
      "execution_count": 15,
      "outputs": [
        {
          "output_type": "stream",
          "name": "stdout",
          "text": [
            "95th percentile character count: 5557.399999999998\n"
          ]
        }
      ]
    },
    {
      "cell_type": "code",
      "source": [
        "max_vocab = 20000\n",
        "max_len = 1500\n",
        "\n",
        "tokenizer = Tokenizer(num_words=max_vocab, oov_token='<OOV>')\n",
        "tokenizer.fit_on_texts(df_train['text'])\n",
        "\n",
        "X_train = tokenizer.texts_to_sequences(df_train['text'])\n",
        "X_train = pad_sequences(X_train, maxlen=max_len, padding='post', truncating='post')\n",
        "\n",
        "X_eval = tokenizer.texts_to_sequences(df_evaluation['text'])\n",
        "X_eval = pad_sequences(X_eval, maxlen=max_len, padding='post', truncating='post')\n",
        "\n",
        "y_train = df_train['label'].astype(int).values\n",
        "y_eval = df_evaluation['label'].astype(int).values"
      ],
      "metadata": {
        "id": "n5RCDOHFd_3G"
      },
      "execution_count": 16,
      "outputs": []
    },
    {
      "cell_type": "code",
      "source": [
        "embedding_dim = 50\n",
        "\n",
        "model = Sequential([\n",
        "    Embedding(input_dim=max_vocab, output_dim=embedding_dim, input_length=max_len),\n",
        "    Bidirectional(LSTM(64, return_sequences=False)),\n",
        "    Dropout(0.5),\n",
        "    Dense(64, activation='relu'),\n",
        "    Dropout(0.5),\n",
        "    Dense(1, activation='sigmoid')\n",
        "])"
      ],
      "metadata": {
        "colab": {
          "base_uri": "https://localhost:8080/"
        },
        "id": "C6qmHLTWd_1L",
        "outputId": "30a38c7e-88f3-45bc-b621-2175eb6c98d5"
      },
      "execution_count": 17,
      "outputs": [
        {
          "output_type": "stream",
          "name": "stderr",
          "text": [
            "/usr/local/lib/python3.11/dist-packages/keras/src/layers/core/embedding.py:90: UserWarning: Argument `input_length` is deprecated. Just remove it.\n",
            "  warnings.warn(\n"
          ]
        }
      ]
    },
    {
      "cell_type": "code",
      "source": [
        "model.compile(loss='binary_crossentropy', optimizer='adam', metrics=['accuracy'])\n",
        "\n",
        "history = model.fit(\n",
        "    X_train, y_train,\n",
        "    validation_data=(X_eval, y_eval),\n",
        "    epochs=10,\n",
        "    batch_size=32\n",
        ")"
      ],
      "metadata": {
        "colab": {
          "base_uri": "https://localhost:8080/"
        },
        "id": "tkcnY3yilzli",
        "outputId": "bcf54a85-1fe2-4bca-bcbe-9c918a034bec"
      },
      "execution_count": 18,
      "outputs": [
        {
          "output_type": "stream",
          "name": "stdout",
          "text": [
            "Epoch 1/10\n",
            "\u001b[1m762/762\u001b[0m \u001b[32m━━━━━━━━━━━━━━━━━━━━\u001b[0m\u001b[37m\u001b[0m \u001b[1m80s\u001b[0m 97ms/step - accuracy: 0.8988 - loss: 0.2304 - val_accuracy: 0.9841 - val_loss: 0.0479\n",
            "Epoch 2/10\n",
            "\u001b[1m762/762\u001b[0m \u001b[32m━━━━━━━━━━━━━━━━━━━━\u001b[0m\u001b[37m\u001b[0m \u001b[1m73s\u001b[0m 96ms/step - accuracy: 0.9912 - loss: 0.0306 - val_accuracy: 0.9826 - val_loss: 0.0495\n",
            "Epoch 3/10\n",
            "\u001b[1m762/762\u001b[0m \u001b[32m━━━━━━━━━━━━━━━━━━━━\u001b[0m\u001b[37m\u001b[0m \u001b[1m73s\u001b[0m 96ms/step - accuracy: 0.9968 - loss: 0.0113 - val_accuracy: 0.9826 - val_loss: 0.0710\n",
            "Epoch 4/10\n",
            "\u001b[1m762/762\u001b[0m \u001b[32m━━━━━━━━━━━━━━━━━━━━\u001b[0m\u001b[37m\u001b[0m \u001b[1m73s\u001b[0m 96ms/step - accuracy: 0.9984 - loss: 0.0071 - val_accuracy: 0.9826 - val_loss: 0.0757\n",
            "Epoch 5/10\n",
            "\u001b[1m762/762\u001b[0m \u001b[32m━━━━━━━━━━━━━━━━━━━━\u001b[0m\u001b[37m\u001b[0m \u001b[1m73s\u001b[0m 96ms/step - accuracy: 0.9984 - loss: 0.0062 - val_accuracy: 0.9848 - val_loss: 0.0806\n",
            "Epoch 6/10\n",
            "\u001b[1m762/762\u001b[0m \u001b[32m━━━━━━━━━━━━━━━━━━━━\u001b[0m\u001b[37m\u001b[0m \u001b[1m73s\u001b[0m 96ms/step - accuracy: 0.9998 - loss: 9.2158e-04 - val_accuracy: 0.9834 - val_loss: 0.1098\n",
            "Epoch 7/10\n",
            "\u001b[1m762/762\u001b[0m \u001b[32m━━━━━━━━━━━━━━━━━━━━\u001b[0m\u001b[37m\u001b[0m \u001b[1m73s\u001b[0m 96ms/step - accuracy: 0.9997 - loss: 0.0013 - val_accuracy: 0.9830 - val_loss: 0.1051\n",
            "Epoch 8/10\n",
            "\u001b[1m762/762\u001b[0m \u001b[32m━━━━━━━━━━━━━━━━━━━━\u001b[0m\u001b[37m\u001b[0m \u001b[1m74s\u001b[0m 96ms/step - accuracy: 0.9988 - loss: 0.0056 - val_accuracy: 0.9809 - val_loss: 0.1162\n",
            "Epoch 9/10\n",
            "\u001b[1m762/762\u001b[0m \u001b[32m━━━━━━━━━━━━━━━━━━━━\u001b[0m\u001b[37m\u001b[0m \u001b[1m73s\u001b[0m 96ms/step - accuracy: 0.9990 - loss: 0.0030 - val_accuracy: 0.9783 - val_loss: 0.1025\n",
            "Epoch 10/10\n",
            "\u001b[1m762/762\u001b[0m \u001b[32m━━━━━━━━━━━━━━━━━━━━\u001b[0m\u001b[37m\u001b[0m \u001b[1m73s\u001b[0m 96ms/step - accuracy: 0.9993 - loss: 0.0029 - val_accuracy: 0.9818 - val_loss: 0.1164\n"
          ]
        }
      ]
    },
    {
      "cell_type": "code",
      "source": [
        "model.save('/content/drive/MyDrive/Jiayi_master_5511/archive (2)/bilstm_fake_news_model_v1.keras')"
      ],
      "metadata": {
        "id": "HxtwEGTWlzfI"
      },
      "execution_count": 22,
      "outputs": []
    },
    {
      "cell_type": "markdown",
      "source": [
        "The model above looks like it's overfitting quite quickly. Let's attempt to drop some nodes in the dense layer from 64 > 32 and try again. This time I will also plot the train accuracy and validation accuracy."
      ],
      "metadata": {
        "id": "kuia1FaOnJz_"
      }
    },
    {
      "cell_type": "code",
      "source": [
        "model2 = Sequential([\n",
        "    Embedding(input_dim=max_vocab, output_dim=embedding_dim, input_length=max_len),\n",
        "    Bidirectional(LSTM(64, return_sequences=False)),\n",
        "    Dropout(0.5),\n",
        "    Dense(32, activation='relu'),\n",
        "    Dropout(0.5),\n",
        "    Dense(1, activation='sigmoid')\n",
        "])"
      ],
      "metadata": {
        "colab": {
          "base_uri": "https://localhost:8080/"
        },
        "id": "W1F4rsrjlzQp",
        "outputId": "3ee1997b-62a2-496a-d2ee-88f8ea7c228b"
      },
      "execution_count": 23,
      "outputs": [
        {
          "output_type": "stream",
          "name": "stderr",
          "text": [
            "/usr/local/lib/python3.11/dist-packages/keras/src/layers/core/embedding.py:90: UserWarning: Argument `input_length` is deprecated. Just remove it.\n",
            "  warnings.warn(\n"
          ]
        }
      ]
    },
    {
      "cell_type": "code",
      "source": [
        "model2.compile(loss='binary_crossentropy', optimizer='adam', metrics=['accuracy'])\n",
        "\n",
        "history2 = model2.fit(\n",
        "    X_train, y_train,\n",
        "    validation_data=(X_eval, y_eval),\n",
        "    epochs=10,\n",
        "    batch_size=32\n",
        ")"
      ],
      "metadata": {
        "colab": {
          "base_uri": "https://localhost:8080/"
        },
        "id": "9fO1YTT4d_xL",
        "outputId": "9c4d72c9-f422-412b-e633-b77350a7dcd5"
      },
      "execution_count": 24,
      "outputs": [
        {
          "output_type": "stream",
          "name": "stdout",
          "text": [
            "Epoch 1/10\n",
            "\u001b[1m762/762\u001b[0m \u001b[32m━━━━━━━━━━━━━━━━━━━━\u001b[0m\u001b[37m\u001b[0m \u001b[1m77s\u001b[0m 97ms/step - accuracy: 0.8985 - loss: 0.2197 - val_accuracy: 0.9835 - val_loss: 0.0497\n",
            "Epoch 2/10\n",
            "\u001b[1m762/762\u001b[0m \u001b[32m━━━━━━━━━━━━━━━━━━━━\u001b[0m\u001b[37m\u001b[0m \u001b[1m73s\u001b[0m 96ms/step - accuracy: 0.9898 - loss: 0.0366 - val_accuracy: 0.9851 - val_loss: 0.0525\n",
            "Epoch 3/10\n",
            "\u001b[1m762/762\u001b[0m \u001b[32m━━━━━━━━━━━━━━━━━━━━\u001b[0m\u001b[37m\u001b[0m \u001b[1m73s\u001b[0m 96ms/step - accuracy: 0.9943 - loss: 0.0185 - val_accuracy: 0.9813 - val_loss: 0.0626\n",
            "Epoch 4/10\n",
            "\u001b[1m762/762\u001b[0m \u001b[32m━━━━━━━━━━━━━━━━━━━━\u001b[0m\u001b[37m\u001b[0m \u001b[1m73s\u001b[0m 96ms/step - accuracy: 0.9984 - loss: 0.0070 - val_accuracy: 0.9819 - val_loss: 0.0775\n",
            "Epoch 5/10\n",
            "\u001b[1m762/762\u001b[0m \u001b[32m━━━━━━━━━━━━━━━━━━━━\u001b[0m\u001b[37m\u001b[0m \u001b[1m73s\u001b[0m 96ms/step - accuracy: 0.9984 - loss: 0.0065 - val_accuracy: 0.9845 - val_loss: 0.0882\n",
            "Epoch 6/10\n",
            "\u001b[1m762/762\u001b[0m \u001b[32m━━━━━━━━━━━━━━━━━━━━\u001b[0m\u001b[37m\u001b[0m \u001b[1m73s\u001b[0m 96ms/step - accuracy: 0.9987 - loss: 0.0042 - val_accuracy: 0.9821 - val_loss: 0.0938\n",
            "Epoch 7/10\n",
            "\u001b[1m762/762\u001b[0m \u001b[32m━━━━━━━━━━━━━━━━━━━━\u001b[0m\u001b[37m\u001b[0m \u001b[1m73s\u001b[0m 96ms/step - accuracy: 0.9996 - loss: 0.0018 - val_accuracy: 0.9839 - val_loss: 0.1124\n",
            "Epoch 8/10\n",
            "\u001b[1m762/762\u001b[0m \u001b[32m━━━━━━━━━━━━━━━━━━━━\u001b[0m\u001b[37m\u001b[0m \u001b[1m73s\u001b[0m 96ms/step - accuracy: 0.9997 - loss: 0.0012 - val_accuracy: 0.9836 - val_loss: 0.1188\n",
            "Epoch 9/10\n",
            "\u001b[1m762/762\u001b[0m \u001b[32m━━━━━━━━━━━━━━━━━━━━\u001b[0m\u001b[37m\u001b[0m \u001b[1m73s\u001b[0m 96ms/step - accuracy: 0.9996 - loss: 0.0019 - val_accuracy: 0.9826 - val_loss: 0.1442\n",
            "Epoch 10/10\n",
            "\u001b[1m762/762\u001b[0m \u001b[32m━━━━━━━━━━━━━━━━━━━━\u001b[0m\u001b[37m\u001b[0m \u001b[1m73s\u001b[0m 96ms/step - accuracy: 0.9991 - loss: 0.0029 - val_accuracy: 0.9816 - val_loss: 0.1059\n"
          ]
        }
      ]
    },
    {
      "cell_type": "code",
      "source": [
        "plt.figure(figsize=(8, 5))\n",
        "plt.plot(history2.history['accuracy'], label='Train Accuracy')\n",
        "plt.plot(history2.history['val_accuracy'], label='Validation Accuracy')\n",
        "plt.title('Model 2 Accuracy over Epochs')\n",
        "plt.xlabel('Epoch')\n",
        "plt.ylabel('Accuracy')\n",
        "plt.legend()\n",
        "plt.grid(True)\n",
        "plt.show()\n"
      ],
      "metadata": {
        "colab": {
          "base_uri": "https://localhost:8080/",
          "height": 487
        },
        "id": "P2-Tcgs3oRnU",
        "outputId": "fbecdc29-b779-4dd1-fe94-3bac421ca81b"
      },
      "execution_count": 25,
      "outputs": [
        {
          "output_type": "display_data",
          "data": {
            "text/plain": [
              "<Figure size 800x500 with 1 Axes>"
            ],
            "image/png": "[encoded data removed]"
          },
          "metadata": {}
        }
      ]
    },
    {
      "cell_type": "code",
      "source": [
        "model2.save('/content/drive/MyDrive/Jiayi_master_5511/archive (2)/bilstm_fake_news_model_v2.keras')"
      ],
      "metadata": {
        "id": "fqv6jkRWoRli"
      },
      "execution_count": 26,
      "outputs": []
    },
    {
      "cell_type": "markdown",
      "source": [
        "Finally, let's use glove (pretrained) embedding to see whether we can achieve better results."
      ],
      "metadata": {
        "id": "-ALQZgeapwnr"
      }
    },
    {
      "cell_type": "code",
      "source": [
        "!wget http://nlp.stanford.edu/data/glove.6B.zip\n",
        "!unzip -q glove.6B.zip"
      ],
      "metadata": {
        "colab": {
          "base_uri": "https://localhost:8080/"
        },
        "id": "yz093RblpwXr",
        "outputId": "9a4ea5b4-bfed-44d2-ea3a-8508a86e522c"
      },
      "execution_count": 27,
      "outputs": [
        {
          "output_type": "stream",
          "name": "stdout",
          "text": [
            "--2025-04-29 17:55:53--  http://nlp.stanford.edu/data/glove.6B.zip\n",
            "Resolving nlp.stanford.edu (nlp.stanford.edu)... 171.64.67.140\n",
            "Connecting to nlp.stanford.edu (nlp.stanford.edu)|171.64.67.140|:80... connected.\n",
            "HTTP request sent, awaiting response... 302 Found\n",
            "Location: https://nlp.stanford.edu/data/glove.6B.zip [following]\n",
            "--2025-04-29 17:55:53--  https://nlp.stanford.edu/data/glove.6B.zip\n",
            "Connecting to nlp.stanford.edu (nlp.stanford.edu)|171.64.67.140|:443... connected.\n",
            "HTTP request sent, awaiting response... 301 Moved Permanently\n",
            "Location: https://downloads.cs.stanford.edu/nlp/data/glove.6B.zip [following]\n",
            "--2025-04-29 17:55:54--  https://downloads.cs.stanford.edu/nlp/data/glove.6B.zip\n",
            "Resolving downloads.cs.stanford.edu (downloads.cs.stanford.edu)... 171.64.64.22\n",
            "Connecting to downloads.cs.stanford.edu (downloads.cs.stanford.edu)|171.64.64.22|:443... connected.\n",
            "HTTP request sent, awaiting response... 200 OK\n",
            "Length: 862182613 (822M) [application/zip]\n",
            "Saving to: ‘glove.6B.zip’\n",
            "\n",
            "glove.6B.zip        100%[===================>] 822.24M  5.02MB/s    in 2m 39s  \n",
            "\n",
            "2025-04-29 17:58:34 (5.17 MB/s) - ‘glove.6B.zip’ saved [862182613/862182613]\n",
            "\n"
          ]
        }
      ]
    },
    {
      "cell_type": "code",
      "source": [
        "embedding_index = {}\n",
        "with open('glove.6B.50d.txt', encoding='utf8') as f:\n",
        "    for line in f:\n",
        "        values = line.split()\n",
        "        word = values[0]\n",
        "        vector = np.asarray(values[1:], dtype='float32')\n",
        "        embedding_index[word] = vector\n",
        "\n",
        "print(f\"Loaded {len(embedding_index)} word vectors from GloVe.\")"
      ],
      "metadata": {
        "colab": {
          "base_uri": "https://localhost:8080/"
        },
        "id": "x-m7pnfToRjX",
        "outputId": "32e4caf3-215c-4ca9-aeda-80493e21180d"
      },
      "execution_count": 30,
      "outputs": [
        {
          "output_type": "stream",
          "name": "stdout",
          "text": [
            "Loaded 400000 word vectors from GloVe.\n"
          ]
        }
      ]
    },
    {
      "cell_type": "code",
      "source": [
        "embedding_dim = 50\n",
        "embedding_matrix = np.zeros((max_vocab, embedding_dim))\n",
        "\n",
        "for word, index in tokenizer.word_index.items():\n",
        "    if index < max_vocab:\n",
        "        vector = embedding_index.get(word)\n",
        "        if vector is not None:\n",
        "            embedding_matrix[index] = vector"
      ],
      "metadata": {
        "id": "CdtDElnBoRf2"
      },
      "execution_count": 31,
      "outputs": []
    },
    {
      "cell_type": "code",
      "source": [
        "model3 = Sequential([\n",
        "    Embedding(\n",
        "        input_dim=max_vocab,\n",
        "        output_dim=embedding_dim,\n",
        "        input_length=max_len,\n",
        "        weights=[embedding_matrix],\n",
        "        trainable=False  # freeze GloVe weights\n",
        "    ),\n",
        "    Bidirectional(LSTM(64, return_sequences=False)),\n",
        "    Dropout(0.5),\n",
        "    Dense(32, activation='relu'),\n",
        "    Dropout(0.5),\n",
        "    Dense(1, activation='sigmoid')\n",
        "])"
      ],
      "metadata": {
        "colab": {
          "base_uri": "https://localhost:8080/"
        },
        "id": "HVKIZmb9oRdt",
        "outputId": "03eec91c-d2c2-4b0e-a88e-10479fa9b854"
      },
      "execution_count": 32,
      "outputs": [
        {
          "output_type": "stream",
          "name": "stderr",
          "text": [
            "/usr/local/lib/python3.11/dist-packages/keras/src/layers/core/embedding.py:90: UserWarning: Argument `input_length` is deprecated. Just remove it.\n",
            "  warnings.warn(\n"
          ]
        }
      ]
    },
    {
      "cell_type": "code",
      "source": [
        "model3.compile(loss='binary_crossentropy', optimizer='adam', metrics=['accuracy'])\n",
        "\n",
        "early_stop = EarlyStopping(monitor='val_accuracy', patience=2, restore_best_weights=True)\n",
        "checkpoint = ModelCheckpoint('/content/drive/MyDrive/Jiayi_master_5511/archive (2)/bilstm_fake_news_model_v3.keras', monitor='val_loss', save_best_only=True)\n",
        "\n",
        "history3 = model3.fit(\n",
        "    X_train, y_train,\n",
        "    validation_data=(X_eval, y_eval),\n",
        "    epochs=10,\n",
        "    batch_size=32,\n",
        "    callbacks=[early_stop, checkpoint]\n",
        ")"
      ],
      "metadata": {
        "colab": {
          "base_uri": "https://localhost:8080/"
        },
        "id": "gzffeLt1oRba",
        "outputId": "6b14c19a-606b-4190-809f-80a2284086cf"
      },
      "execution_count": 34,
      "outputs": [
        {
          "output_type": "stream",
          "name": "stdout",
          "text": [
            "Epoch 1/10\n",
            "\u001b[1m762/762\u001b[0m \u001b[32m━━━━━━━━━━━━━━━━━━━━\u001b[0m\u001b[37m\u001b[0m \u001b[1m76s\u001b[0m 96ms/step - accuracy: 0.9800 - loss: 0.0797 - val_accuracy: 0.9799 - val_loss: 0.0658\n",
            "Epoch 2/10\n",
            "\u001b[1m762/762\u001b[0m \u001b[32m━━━━━━━━━━━━━━━━━━━━\u001b[0m\u001b[37m\u001b[0m \u001b[1m74s\u001b[0m 97ms/step - accuracy: 0.9802 - loss: 0.0712 - val_accuracy: 0.9809 - val_loss: 0.0577\n",
            "Epoch 3/10\n",
            "\u001b[1m762/762\u001b[0m \u001b[32m━━━━━━━━━━━━━━━━━━━━\u001b[0m\u001b[37m\u001b[0m \u001b[1m75s\u001b[0m 98ms/step - accuracy: 0.9827 - loss: 0.0723 - val_accuracy: 0.9812 - val_loss: 0.0611\n",
            "Epoch 4/10\n",
            "\u001b[1m762/762\u001b[0m \u001b[32m━━━━━━━━━━━━━━━━━━━━\u001b[0m\u001b[37m\u001b[0m \u001b[1m74s\u001b[0m 97ms/step - accuracy: 0.9842 - loss: 0.0533 - val_accuracy: 0.9835 - val_loss: 0.0472\n",
            "Epoch 5/10\n",
            "\u001b[1m762/762\u001b[0m \u001b[32m━━━━━━━━━━━━━━━━━━━━\u001b[0m\u001b[37m\u001b[0m \u001b[1m74s\u001b[0m 97ms/step - accuracy: 0.9856 - loss: 0.0463 - val_accuracy: 0.9850 - val_loss: 0.0447\n",
            "Epoch 6/10\n",
            "\u001b[1m762/762\u001b[0m \u001b[32m━━━━━━━━━━━━━━━━━━━━\u001b[0m\u001b[37m\u001b[0m \u001b[1m74s\u001b[0m 97ms/step - accuracy: 0.9859 - loss: 0.0403 - val_accuracy: 0.9857 - val_loss: 0.0451\n",
            "Epoch 7/10\n",
            "\u001b[1m762/762\u001b[0m \u001b[32m━━━━━━━━━━━━━━━━━━━━\u001b[0m\u001b[37m\u001b[0m \u001b[1m74s\u001b[0m 97ms/step - accuracy: 0.9874 - loss: 0.0342 - val_accuracy: 0.9867 - val_loss: 0.0396\n",
            "Epoch 8/10\n",
            "\u001b[1m762/762\u001b[0m \u001b[32m━━━━━━━━━━━━━━━━━━━━\u001b[0m\u001b[37m\u001b[0m \u001b[1m74s\u001b[0m 97ms/step - accuracy: 0.9887 - loss: 0.0336 - val_accuracy: 0.9863 - val_loss: 0.0433\n",
            "Epoch 9/10\n",
            "\u001b[1m762/762\u001b[0m \u001b[32m━━━━━━━━━━━━━━━━━━━━\u001b[0m\u001b[37m\u001b[0m \u001b[1m74s\u001b[0m 96ms/step - accuracy: 0.9906 - loss: 0.0269 - val_accuracy: 0.9878 - val_loss: 0.0413\n",
            "Epoch 10/10\n",
            "\u001b[1m762/762\u001b[0m \u001b[32m━━━━━━━━━━━━━━━━━━━━\u001b[0m\u001b[37m\u001b[0m \u001b[1m73s\u001b[0m 96ms/step - accuracy: 0.9911 - loss: 0.0258 - val_accuracy: 0.9868 - val_loss: 0.0472\n"
          ]
        }
      ]
    },
    {
      "cell_type": "code",
      "source": [
        "plt.figure(figsize=(8, 5))\n",
        "plt.plot(history3.history['accuracy'], label='Train Accuracy')\n",
        "plt.plot(history3.history['val_accuracy'], label='Validation Accuracy')\n",
        "plt.title('Model 3 Accuracy over Epochs')\n",
        "plt.xlabel('Epoch')\n",
        "plt.ylabel('Accuracy')\n",
        "plt.legend()\n",
        "plt.grid(True)\n",
        "plt.show()"
      ],
      "metadata": {
        "colab": {
          "base_uri": "https://localhost:8080/",
          "height": 487
        },
        "id": "BYAImOUpoRZ7",
        "outputId": "9e586589-290b-4800-cb5f-f23969819923"
      },
      "execution_count": 35,
      "outputs": [
        {
          "output_type": "display_data",
          "data": {
            "text/plain": [
              "<Figure size 800x500 with 1 Axes>"
            ],
            "image/png": "[encoded data removed]"
          },
          "metadata": {}
        }
      ]
    },
    {
      "cell_type": "markdown",
      "source": [
        "Now that I have trained the models, I will test the models on the test dataset. I will need to process the test.csv file in the same way that I did for the trainining and evaluation datasets."
      ],
      "metadata": {
        "id": "WrQ9ux4erKQz"
      }
    },
    {
      "cell_type": "code",
      "source": [
        "df_test = pd.read_csv('/content/drive/MyDrive/Jiayi_master_5511/archive (2)/test (1).csv', sep=';', engine='python')\n",
        "df_test.rename(columns={df_test.columns[0]: 'id'}, inplace=True)\n",
        "\n",
        "X_test = tokenizer.texts_to_sequences(df_test['text'])\n",
        "X_test = pad_sequences(X_test, maxlen=max_len, padding='post', truncating='post')\n"
      ],
      "metadata": {
        "id": "1wibYw6Zr42V"
      },
      "execution_count": 36,
      "outputs": []
    },
    {
      "cell_type": "code",
      "source": [
        "y_pred_prob = model3.predict(X_test)\n",
        "y_pred = (y_pred_prob > 0.5).astype(int)\n",
        "y_true = df_test['label'].astype(int).values\n",
        "\n",
        "cm = confusion_matrix(y_true, y_pred)\n",
        "print(\"Confusion Matrix:\")\n",
        "print(cm)"
      ],
      "metadata": {
        "colab": {
          "base_uri": "https://localhost:8080/"
        },
        "id": "HMVRSe5msWPN",
        "outputId": "1ed17223-badc-462a-eb85-61d1b0f0844c"
      },
      "execution_count": 37,
      "outputs": [
        {
          "output_type": "stream",
          "name": "stdout",
          "text": [
            "\u001b[1m254/254\u001b[0m \u001b[32m━━━━━━━━━━━━━━━━━━━━\u001b[0m\u001b[37m\u001b[0m \u001b[1m9s\u001b[0m 35ms/step\n",
            "Confusion Matrix:\n",
            "[[3718   35]\n",
            " [  64 4300]]\n"
          ]
        }
      ]
    },
    {
      "cell_type": "code",
      "source": [
        "print(\"\\nClassification Report:\")\n",
        "print(classification_report(y_true, y_pred))"
      ],
      "metadata": {
        "colab": {
          "base_uri": "https://localhost:8080/"
        },
        "id": "qooT3z5GuaAe",
        "outputId": "dfcb6332-700f-4bfa-fc53-4266db06bd87"
      },
      "execution_count": 38,
      "outputs": [
        {
          "output_type": "stream",
          "name": "stdout",
          "text": [
            "\n",
            "Classification Report:\n",
            "              precision    recall  f1-score   support\n",
            "\n",
            "           0       0.98      0.99      0.99      3753\n",
            "           1       0.99      0.99      0.99      4364\n",
            "\n",
            "    accuracy                           0.99      8117\n",
            "   macro avg       0.99      0.99      0.99      8117\n",
            "weighted avg       0.99      0.99      0.99      8117\n",
            "\n"
          ]
        }
      ]
    },
    {
      "cell_type": "code",
      "source": [
        "accuracy = accuracy_score(y_true, y_pred)\n",
        "print(f\"\\nTotal Accuracy: {accuracy * 100:.2f}%\")"
      ],
      "metadata": {
        "colab": {
          "base_uri": "https://localhost:8080/"
        },
        "id": "eFOex-mhunMq",
        "outputId": "2cb2e574-62d2-41cb-e284-a6e4faf1ba18"
      },
      "execution_count": 39,
      "outputs": [
        {
          "output_type": "stream",
          "name": "stdout",
          "text": [
            "\n",
            "Total Accuracy: 98.78%\n"
          ]
        }
      ]
    },
    {
      "cell_type": "markdown",
      "source": [
        "While I still have some doubts on how we can reliably differentiate fake news from real ones, for this assignment, my deep learning model did attain a pretty accurate score on the test set."
      ],
      "metadata": {
        "id": "_OX7fSa6uns7"
      }
    },
    {
      "cell_type": "markdown",
      "source": [
        "~ End"
      ],
      "metadata": {
        "id": "qfLH01NQu71C"
      }
    }
  ]
}